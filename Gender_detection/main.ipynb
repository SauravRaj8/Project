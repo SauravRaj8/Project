{
 "cells": [
  {
   "cell_type": "markdown",
   "metadata": {},
   "source": [
    "#                                 GENDER PREDICTION"
   ]
  },
  {
   "cell_type": "code",
   "execution_count": 1,
   "metadata": {},
   "outputs": [],
   "source": [
    "# Import libraries\n",
    "import pandas as pd\n",
    "import numpy as np\n",
    "import matplotlib.pyplot as plt\n",
    "import os,cv2\n",
    "import random\n",
    "import glob\n",
    "from tensorflow.keras.preprocessing.image import img_to_array\n",
    "from sklearn.model_selection import train_test_split\n",
    "from tensorflow.keras.preprocessing.image import ImageDataGenerator\n",
    "from tensorflow.keras.utils import to_categorical,plot_model\n",
    "from tensorflow.keras.models import Sequential\n",
    "from tensorflow.keras import backend\n",
    "from tensorflow.keras.optimizers import Adam\n",
    "from tensorflow.keras.layers import BatchNormalization,Conv2D,MaxPool2D,Activation,Flatten,Dropout,Dense"
   ]
  },
  {
   "cell_type": "code",
   "execution_count": 2,
   "metadata": {},
   "outputs": [],
   "source": [
    "Epochs=50\n",
    "lr=1e-3\n",
    "dimension=(96,96,3)\n",
    "BS=32"
   ]
  },
  {
   "cell_type": "code",
   "execution_count": 3,
   "metadata": {},
   "outputs": [
    {
     "data": {
      "text/plain": [
       "23708"
      ]
     },
     "execution_count": 3,
     "metadata": {},
     "output_type": "execute_result"
    }
   ],
   "source": [
    "# Loading data\n",
    "files=[f for f in glob.glob(r'C:\\Users\\Saurav\\archive\\utkface_aligned_cropped\\UTKFace' + '\\*', recursive=True)]\n",
    "random.shuffle(files)\n",
    "len(files)"
   ]
  },
  {
   "cell_type": "code",
   "execution_count": 4,
   "metadata": {},
   "outputs": [],
   "source": [
    "data=[]\n",
    "gender=[]\n",
    "age=[]\n",
    "for i in files:\n",
    "    img=cv2.imread(i)\n",
    "    img=cv2.resize(img,(dimension[0],dimension[1]))\n",
    "    img=img_to_array(img)\n",
    "    data.append(img)\n",
    "    x=i.split(os.path.sep)[-1]\n",
    "    gender.append(x.split('_')[1])\n",
    "    age.append(x.split('_')[0])"
   ]
  },
  {
   "cell_type": "code",
   "execution_count": 5,
   "metadata": {},
   "outputs": [],
   "source": [
    "data=np.array(data,dtype=float)/255.0\n",
    "gender=np.array(gender)"
   ]
  },
  {
   "cell_type": "code",
   "execution_count": 6,
   "metadata": {},
   "outputs": [],
   "source": [
    "# training and testing data\n",
    "(train_x, test_x, train_y, test_y)=train_test_split(data,gender,test_size=0.2,random_state=42)\n",
    "train_y=to_categorical(train_y,num_classes=2)\n",
    "test_y=to_categorical(test_y,num_classes=2)"
   ]
  },
  {
   "cell_type": "code",
   "execution_count": 7,
   "metadata": {},
   "outputs": [],
   "source": [
    "def build(width,height,depth,classes):\n",
    "    model=Sequential()\n",
    "    inputs=(width,height,depth)\n",
    "    channel_dim=-1\n",
    "    if backend.image_data_format()==\"channels_first\":\n",
    "        channel_dim=1;\n",
    "    \n",
    "    model.add(Conv2D(32,(3,3),padding=\"same\",input_shape=inputs))\n",
    "    model.add(Activation(\"relu\"))\n",
    "    model.add(BatchNormalization(axis=channel_dim))\n",
    "    model.add(MaxPool2D(pool_size=(3,3)))\n",
    "    model.add(Dropout(0.25))\n",
    "    \n",
    "    model.add(Conv2D(64,(3,3),padding=\"same\"))\n",
    "    model.add(Activation(\"relu\"))\n",
    "    model.add(BatchNormalization(channel_dim))\n",
    "    \n",
    "    model.add(Conv2D(64,(3,3),padding=\"same\"))\n",
    "    model.add(Activation(\"relu\"))\n",
    "    model.add(BatchNormalization(channel_dim))\n",
    "    model.add(MaxPool2D(pool_size=(2,2)))\n",
    "    model.add(Dropout(0.25))\n",
    "    \n",
    "    model.add(Conv2D(128,(3,3),padding=\"same\"))\n",
    "    model.add(Activation(\"relu\"))\n",
    "    model.add(BatchNormalization(axis=channel_dim))\n",
    "    \n",
    "    model.add(Conv2D(128,(3,3),padding=\"same\"))\n",
    "    model.add(Activation(\"relu\"))\n",
    "    model.add(BatchNormalization(axis=channel_dim))\n",
    "    model.add(MaxPool2D(pool_size=(2,2)))\n",
    "    model.add(Dropout(0.25))\n",
    "    \n",
    "    model.add(Flatten())\n",
    "    model.add(Dense(1024))\n",
    "    model.add(Activation(\"relu\"))\n",
    "    model.add(BatchNormalization())\n",
    "    model.add(Dropout(0.5))\n",
    "    \n",
    "    model.add(Dense(classes))\n",
    "    model.add(Activation(\"sigmoid\"))\n",
    "    return model\n",
    "\n",
    "model=build(width=dimension[0], height=dimension[1], depth=dimension[2], classes=2)"
   ]
  },
  {
   "cell_type": "code",
   "execution_count": 8,
   "metadata": {},
   "outputs": [],
   "source": [
    "optim = Adam(learning_rate=lr, decay=lr/Epochs)\n",
    "model.compile(optimizer=optim, loss='binary_crossentropy', metrics=\"accuracy\")"
   ]
  },
  {
   "cell_type": "code",
   "execution_count": 9,
   "metadata": {
    "scrolled": true
   },
   "outputs": [],
   "source": [
    "aug = ImageDataGenerator(rotation_range=25, zoom_range=0.2,width_shift_range=0.1, height_shift_range=0.1, shear_range=0.2,horizontal_flip=True, fill_mode=\"nearest\")"
   ]
  },
  {
   "cell_type": "code",
   "execution_count": 10,
   "metadata": {},
   "outputs": [
    {
     "name": "stdout",
     "output_type": "stream",
     "text": [
      "Epoch 1/50\n",
      "592/592 [==============================] - 373s 626ms/step - loss: 0.6361 - accuracy: 0.7157 - val_loss: 0.4843 - val_accuracy: 0.7763\n",
      "Epoch 2/50\n",
      "592/592 [==============================] - 380s 641ms/step - loss: 0.4734 - accuracy: 0.7798 - val_loss: 0.5307 - val_accuracy: 0.7638\n",
      "Epoch 3/50\n",
      "592/592 [==============================] - 380s 641ms/step - loss: 0.4150 - accuracy: 0.8135 - val_loss: 0.3921 - val_accuracy: 0.8288\n",
      "Epoch 4/50\n",
      "592/592 [==============================] - 414s 699ms/step - loss: 0.3855 - accuracy: 0.8280 - val_loss: 0.3189 - val_accuracy: 0.8699\n",
      "Epoch 5/50\n",
      "592/592 [==============================] - 384s 648ms/step - loss: 0.3628 - accuracy: 0.8356 - val_loss: 0.3573 - val_accuracy: 0.8399\n",
      "Epoch 6/50\n",
      "592/592 [==============================] - 356s 601ms/step - loss: 0.3624 - accuracy: 0.8393 - val_loss: 0.3105 - val_accuracy: 0.8695\n",
      "Epoch 7/50\n",
      "592/592 [==============================] - 360s 608ms/step - loss: 0.3375 - accuracy: 0.8529 - val_loss: 0.2883 - val_accuracy: 0.8773\n",
      "Epoch 8/50\n",
      "592/592 [==============================] - 364s 614ms/step - loss: 0.3321 - accuracy: 0.8523 - val_loss: 0.2794 - val_accuracy: 0.8842\n",
      "Epoch 9/50\n",
      "592/592 [==============================] - 396s 669ms/step - loss: 0.3299 - accuracy: 0.8534 - val_loss: 0.3900 - val_accuracy: 0.8269\n",
      "Epoch 10/50\n",
      "592/592 [==============================] - 424s 716ms/step - loss: 0.3114 - accuracy: 0.8625 - val_loss: 0.2848 - val_accuracy: 0.8777\n",
      "Epoch 11/50\n",
      "592/592 [==============================] - 450s 760ms/step - loss: 0.3078 - accuracy: 0.8653 - val_loss: 0.3305 - val_accuracy: 0.8712\n",
      "Epoch 12/50\n",
      "592/592 [==============================] - 441s 744ms/step - loss: 0.3065 - accuracy: 0.8664 - val_loss: 0.3556 - val_accuracy: 0.8342\n",
      "Epoch 13/50\n",
      "592/592 [==============================] - 356s 601ms/step - loss: 0.3058 - accuracy: 0.8645 - val_loss: 0.2687 - val_accuracy: 0.8796\n",
      "Epoch 14/50\n",
      "592/592 [==============================] - 327s 552ms/step - loss: 0.2926 - accuracy: 0.8700 - val_loss: 0.3427 - val_accuracy: 0.8513\n",
      "Epoch 15/50\n",
      "592/592 [==============================] - 329s 555ms/step - loss: 0.2989 - accuracy: 0.8719 - val_loss: 0.2609 - val_accuracy: 0.8849\n",
      "Epoch 16/50\n",
      "592/592 [==============================] - 333s 563ms/step - loss: 0.2914 - accuracy: 0.8731 - val_loss: 0.2711 - val_accuracy: 0.8739\n",
      "Epoch 17/50\n",
      "592/592 [==============================] - 335s 565ms/step - loss: 0.2828 - accuracy: 0.8771 - val_loss: 0.2469 - val_accuracy: 0.8895\n",
      "Epoch 18/50\n",
      "592/592 [==============================] - 320s 540ms/step - loss: 0.2807 - accuracy: 0.8778 - val_loss: 0.2554 - val_accuracy: 0.8988\n",
      "Epoch 19/50\n",
      "592/592 [==============================] - 359s 607ms/step - loss: 0.2742 - accuracy: 0.8794 - val_loss: 0.2400 - val_accuracy: 0.9011\n",
      "Epoch 20/50\n",
      "592/592 [==============================] - 362s 610ms/step - loss: 0.2696 - accuracy: 0.8832 - val_loss: 0.2413 - val_accuracy: 0.8973\n",
      "Epoch 21/50\n",
      "592/592 [==============================] - 332s 561ms/step - loss: 0.2760 - accuracy: 0.8789 - val_loss: 0.2668 - val_accuracy: 0.8838\n",
      "Epoch 22/50\n",
      "592/592 [==============================] - 317s 535ms/step - loss: 0.2681 - accuracy: 0.8844 - val_loss: 0.2485 - val_accuracy: 0.9026\n",
      "Epoch 23/50\n",
      "592/592 [==============================] - 317s 535ms/step - loss: 0.2618 - accuracy: 0.8862 - val_loss: 0.2514 - val_accuracy: 0.8908\n",
      "Epoch 24/50\n",
      "592/592 [==============================] - 313s 529ms/step - loss: 0.2585 - accuracy: 0.8877 - val_loss: 0.2302 - val_accuracy: 0.9036\n",
      "Epoch 25/50\n",
      "592/592 [==============================] - 310s 524ms/step - loss: 0.2634 - accuracy: 0.8870 - val_loss: 0.2738 - val_accuracy: 0.8920\n",
      "Epoch 26/50\n",
      "592/592 [==============================] - 15342s 26s/step - loss: 0.2593 - accuracy: 0.8886 - val_loss: 0.2537 - val_accuracy: 0.8954\n",
      "Epoch 27/50\n",
      "592/592 [==============================] - 330s 557ms/step - loss: 0.2511 - accuracy: 0.8896 - val_loss: 0.2283 - val_accuracy: 0.9051\n",
      "Epoch 28/50\n",
      "592/592 [==============================] - 332s 560ms/step - loss: 0.2488 - accuracy: 0.8916 - val_loss: 0.2561 - val_accuracy: 0.8954\n",
      "Epoch 29/50\n",
      "592/592 [==============================] - 348s 587ms/step - loss: 0.2482 - accuracy: 0.8952 - val_loss: 0.2091 - val_accuracy: 0.9135\n",
      "Epoch 30/50\n",
      "592/592 [==============================] - 335s 566ms/step - loss: 0.2434 - accuracy: 0.8934 - val_loss: 0.2255 - val_accuracy: 0.9013\n",
      "Epoch 31/50\n",
      "592/592 [==============================] - 332s 561ms/step - loss: 0.2500 - accuracy: 0.8919 - val_loss: 0.2635 - val_accuracy: 0.8849\n",
      "Epoch 32/50\n",
      "592/592 [==============================] - 330s 558ms/step - loss: 0.2466 - accuracy: 0.8935 - val_loss: 0.2022 - val_accuracy: 0.9180\n",
      "Epoch 33/50\n",
      "592/592 [==============================] - 342s 578ms/step - loss: 0.2419 - accuracy: 0.8973 - val_loss: 0.2429 - val_accuracy: 0.8958\n",
      "Epoch 34/50\n",
      "592/592 [==============================] - 398s 673ms/step - loss: 0.2448 - accuracy: 0.8985 - val_loss: 0.2112 - val_accuracy: 0.9119\n",
      "Epoch 35/50\n",
      "592/592 [==============================] - 422s 713ms/step - loss: 0.2383 - accuracy: 0.8957 - val_loss: 0.2081 - val_accuracy: 0.9161\n",
      "Epoch 36/50\n",
      "592/592 [==============================] - 335s 566ms/step - loss: 0.2339 - accuracy: 0.9001 - val_loss: 0.2034 - val_accuracy: 0.9173\n",
      "Epoch 37/50\n",
      "592/592 [==============================] - 329s 556ms/step - loss: 0.2299 - accuracy: 0.9032 - val_loss: 0.1996 - val_accuracy: 0.9131\n",
      "Epoch 38/50\n",
      "592/592 [==============================] - 329s 556ms/step - loss: 0.2304 - accuracy: 0.9026 - val_loss: 0.2116 - val_accuracy: 0.9154\n",
      "Epoch 39/50\n",
      "592/592 [==============================] - 340s 574ms/step - loss: 0.2338 - accuracy: 0.9017 - val_loss: 0.2048 - val_accuracy: 0.9131\n",
      "Epoch 40/50\n",
      "592/592 [==============================] - 337s 569ms/step - loss: 0.2296 - accuracy: 0.9016 - val_loss: 0.2116 - val_accuracy: 0.9169\n",
      "Epoch 41/50\n",
      "592/592 [==============================] - 354s 598ms/step - loss: 0.2311 - accuracy: 0.9022 - val_loss: 0.2028 - val_accuracy: 0.9186\n",
      "Epoch 42/50\n",
      "592/592 [==============================] - 348s 588ms/step - loss: 0.2270 - accuracy: 0.9028 - val_loss: 0.2179 - val_accuracy: 0.9123\n",
      "Epoch 43/50\n",
      "592/592 [==============================] - 359s 606ms/step - loss: 0.2242 - accuracy: 0.9047 - val_loss: 0.2312 - val_accuracy: 0.9093\n",
      "Epoch 44/50\n",
      "592/592 [==============================] - 328s 554ms/step - loss: 0.2238 - accuracy: 0.9056 - val_loss: 0.2522 - val_accuracy: 0.8927\n",
      "Epoch 45/50\n",
      "592/592 [==============================] - 399s 674ms/step - loss: 0.2328 - accuracy: 0.9003 - val_loss: 0.1913 - val_accuracy: 0.9241\n",
      "Epoch 46/50\n",
      "592/592 [==============================] - 374s 631ms/step - loss: 0.2348 - accuracy: 0.9007 - val_loss: 0.2347 - val_accuracy: 0.9024\n",
      "Epoch 47/50\n",
      "592/592 [==============================] - 365s 616ms/step - loss: 0.2295 - accuracy: 0.9023 - val_loss: 0.2065 - val_accuracy: 0.9131\n",
      "Epoch 48/50\n",
      "592/592 [==============================] - 352s 594ms/step - loss: 0.2259 - accuracy: 0.9045 - val_loss: 0.2041 - val_accuracy: 0.9201\n",
      "Epoch 49/50\n",
      "592/592 [==============================] - 336s 567ms/step - loss: 0.2236 - accuracy: 0.9064 - val_loss: 0.2155 - val_accuracy: 0.9135\n",
      "Epoch 50/50\n",
      "592/592 [==============================] - 364s 615ms/step - loss: 0.2243 - accuracy: 0.9060 - val_loss: 0.2291 - val_accuracy: 0.9085\n"
     ]
    }
   ],
   "source": [
    "H = model.fit(aug.flow(train_x,train_y,batch_size=BS), validation_data=(test_x,test_y), steps_per_epoch=len(train_x) // BS, epochs=Epochs, verbose=1)"
   ]
  },
  {
   "cell_type": "code",
   "execution_count": 11,
   "metadata": {},
   "outputs": [
    {
     "name": "stdout",
     "output_type": "stream",
     "text": [
      "INFO:tensorflow:Assets written to: gener_detection.model\\assets\n"
     ]
    }
   ],
   "source": [
    "model.save('gener_detection.model')"
   ]
  },
  {
   "cell_type": "code",
   "execution_count": 19,
   "metadata": {
    "scrolled": true
   },
   "outputs": [
    {
     "data": {
      "text/plain": [
       "<matplotlib.legend.Legend at 0x2c1f2be9a90>"
      ]
     },
     "execution_count": 19,
     "metadata": {},
     "output_type": "execute_result"
    },
    {
     "data": {
      "image/png": "[encoded data removed]",
      "text/plain": [
       "<Figure size 432x288 with 1 Axes>"
      ]
     },
     "metadata": {},
     "output_type": "display_data"
    }
   ],
   "source": [
    "plt.style.use(\"ggplot\")\n",
    "plt.figure()\n",
    "plt.plot(np.arange(0,Epochs),H.history[\"loss\"],label=\"train_loss\")\n",
    "plt.plot(np.arange(0,Epochs),H.history[\"val_loss\"],label=\"val_loss\")\n",
    "plt.plot(np.arange(0,Epochs),H.history[\"accuracy\"],label=\"accuracy\")\n",
    "plt.plot(np.arange(0,Epochs),H.history[\"val_accuracy\"],label=\"val_accuracy\")\n",
    "\n",
    "plt.title(\"training loss and accuracy\")\n",
    "plt.xlabel('Epoch')\n",
    "plt.ylabel('loss/accuracy')\n",
    "plt.legend(loc='upper right')"
   ]
  },
  {
   "cell_type": "code",
   "execution_count": 20,
   "metadata": {},
   "outputs": [
    {
     "data": {
      "text/plain": [
       "<Figure size 432x288 with 0 Axes>"
      ]
     },
     "metadata": {},
     "output_type": "display_data"
    }
   ],
   "source": [
    "plt.savefig('plot.png')"
   ]
  }
 ],
 "metadata": {
  "kernelspec": {
   "display_name": "Python 3",
   "language": "python",
   "name": "python3"
  },
  "language_info": {
   "codemirror_mode": {
    "name": "ipython",
    "version": 3
   },
   "file_extension": ".py",
   "mimetype": "text/x-python",
   "name": "python",
   "nbconvert_exporter": "python",
   "pygments_lexer": "ipython3",
   "version": "3.7.1"
  }
 },
 "nbformat": 4,
 "nbformat_minor": 2
}
