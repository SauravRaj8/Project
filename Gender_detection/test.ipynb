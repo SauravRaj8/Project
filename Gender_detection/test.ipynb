{
 "cells": [
  {
   "cell_type": "code",
   "execution_count": 1,
   "metadata": {},
   "outputs": [],
   "source": [
    "from tensorflow.keras.models import load_model\n",
    "from tensorflow.keras.preprocessing.image import img_to_array\n",
    "import cv2\n",
    "import os\n",
    "import cvlib as cv\n",
    "import numpy as np"
   ]
  },
  {
   "cell_type": "code",
   "execution_count": 2,
   "metadata": {},
   "outputs": [],
   "source": [
    "classes=['man','woman']\n",
    "model=load_model('gener_detection.model')\n",
    "webcam = cv2.VideoCapture(0)"
   ]
  },
  {
   "cell_type": "code",
   "execution_count": 6,
   "metadata": {},
   "outputs": [],
   "source": [
    "while webcam.isOpened():\n",
    "    status, frame = webcam.read()\n",
    "    face, confidence = cv.detect_face(frame)\n",
    "    for idx,f in enumerate(face):\n",
    "        (left_x,left_y,right_x,right_y)=f[0],f[1],f[2],f[3]\n",
    "        cv2.rectangle(frame,(left_x,left_y),(right_x,right_y),(0,255,0),2)\n",
    "        crop=np.copy(frame[left_y:right_y,left_x:right_x])\n",
    "        if (crop.shape[0]<10) & (crop.shape[1]<10):\n",
    "            continue\n",
    "        crop=cv2.resize(crop,(96,96))\n",
    "        crop=crop.astype(\"float\")/255.0\n",
    "        crop=img_to_array(crop)\n",
    "        crop=np.expand_dims(crop,axis=0)\n",
    "        conf=model.predict(crop)[0]\n",
    "        idx=np.argmax(conf)\n",
    "        label=classes[idx]\n",
    "        label=\"{}:{:.2f}%\".format(label,conf[idx]*100)\n",
    "        if left_y-10 > 10:\n",
    "            y=left_y-10\n",
    "        else:\n",
    "            y=left_y+10\n",
    "        cv2.putText(frame,label,(left_x,y),cv2.FONT_HERSHEY_SIMPLEX,0.7,(0,255,0),2)\n",
    "    cv2.imshow('gender_detection',frame)\n",
    "        \n",
    "    if cv2.waitKey(1) & 0xFF==ord('q'):\n",
    "        break\n",
    "webcam.release()\n",
    "cv2.destroyAllWindows()"
   ]
  },
  {
   "cell_type": "code",
   "execution_count": null,
   "metadata": {},
   "outputs": [],
   "source": []
  }
 ],
 "metadata": {
  "kernelspec": {
   "display_name": "Python 3",
   "language": "python",
   "name": "python3"
  },
  "language_info": {
   "codemirror_mode": {
    "name": "ipython",
    "version": 3
   },
   "file_extension": ".py",
   "mimetype": "text/x-python",
   "name": "python",
   "nbconvert_exporter": "python",
   "pygments_lexer": "ipython3",
   "version": "3.7.1"
  }
 },
 "nbformat": 4,
 "nbformat_minor": 2
}
