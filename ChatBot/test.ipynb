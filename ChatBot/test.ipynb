{
 "cells": [
  {
   "cell_type": "code",
   "execution_count": 12,
   "metadata": {},
   "outputs": [],
   "source": [
    "import numpy as np\n",
    "import pickle\n",
    "import colorama\n",
    "from colorama import Fore, Style\n",
    "import json\n",
    "import tensorflow as tf\n",
    "from tensorflow.keras.models import load_model\n",
    "from tensorflow.keras.preprocessing.sequence import pad_sequences"
   ]
  },
  {
   "cell_type": "code",
   "execution_count": 16,
   "metadata": {},
   "outputs": [],
   "source": [
    "with open('intent.json','r') as file:\n",
    "    data=json.load(file)\n",
    "    \n",
    "model=load_model('chat.model')\n",
    "\n",
    "with open('tokenizer.pickle','rb') as file:\n",
    "    tokenizer=pickle.load(file)\n",
    "\n",
    "with open('label_encoder.pickle','rb') as file:\n",
    "    lbl=pickle.load(file)"
   ]
  },
  {
   "cell_type": "code",
   "execution_count": 17,
   "metadata": {},
   "outputs": [
    {
     "name": "stdout",
     "output_type": "stream",
     "text": [
      "\u001b[33mStart messaging with chatbot and press quit to exit\u001b[0m\n",
      "\u001b[94mUser: \u001b[0mhi\n",
      "WARNING:tensorflow:6 out of the last 10 calls to <function Model.make_predict_function.<locals>.predict_function at 0x00000227174172F0> triggered tf.function retracing. Tracing is expensive and the excessive number of tracings could be due to (1) creating @tf.function repeatedly in a loop, (2) passing tensors with different shapes, (3) passing Python objects instead of tensors. For (1), please define your @tf.function outside of the loop. For (2), @tf.function has experimental_relax_shapes=True option that relaxes argument shapes that can avoid unnecessary retracing. For (3), please refer to https://www.tensorflow.org/guide/function#controlling_retracing and https://www.tensorflow.org/api_docs/python/tf/function for  more details.\n",
      "\u001b[32mChatBot: \u001b[0m Hi human, please tell me your GeniSys user\n",
      "\u001b[94mUser: \u001b[0mHi\n",
      "\u001b[32mChatBot: \u001b[0m Hi human, please tell me your GeniSys user\n",
      "\u001b[94mUser: \u001b[0mgetting bored\n",
      "\u001b[32mChatBot: \u001b[0m Yes Sure, How can I support you\n",
      "\u001b[94mUser: \u001b[0mname\n",
      "\u001b[32mChatBot: \u001b[0m I was in the supermarket and I saw this man and woman wrapped in a barcode. I said, 'Are you two an item?'  \n",
      "\u001b[94mUser: \u001b[0mwhat is name\n",
      "\u001b[32mChatBot: \u001b[0m Two hydrogen atoms walk into a bar. One says, 'I've lost my electron.' The other says, 'Are you sure?' The first replies, 'Yes, I'm positive...'\n",
      "\u001b[94mUser: \u001b[0mwho are you\n",
      "\u001b[32mChatBot: \u001b[0m Just call me as Geni\n",
      "\u001b[94mUser: \u001b[0mhey\n",
      "\u001b[32mChatBot: \u001b[0m Hey human, please tell me your GeniSys user\n",
      "\u001b[94mUser: \u001b[0mhi\n",
      "\u001b[32mChatBot: \u001b[0m Hey human, please tell me your GeniSys user\n",
      "\u001b[94mUser: \u001b[0madam\n",
      "\u001b[32mChatBot: \u001b[0m Great! Hi <HUMAN>! How can I help?\n",
      "\u001b[94mUser: \u001b[0mhow are you\n",
      "\u001b[32mChatBot: \u001b[0m Hi, I am great, how are you? Please tell me your GeniSys user\n",
      "\u001b[94mUser: \u001b[0mgreat thanks, i am adam\n",
      "\u001b[32mChatBot: \u001b[0m Great! Hi <HUMAN>! How can I help?\n",
      "\u001b[94mUser: \u001b[0mtell your name\n",
      "\u001b[32mChatBot: \u001b[0m I'm Geni!\n",
      "\u001b[94mUser: \u001b[0mhelp, please\n",
      "\u001b[32mChatBot: \u001b[0m Tell me your problem to assist you\n",
      "\u001b[94mUser: \u001b[0mnot meant for you\n",
      "\u001b[32mChatBot: \u001b[0m Right\n",
      "\u001b[94mUser: \u001b[0mhow to create an account\n",
      "\u001b[32mChatBot: \u001b[0m Just go to our web site and follow the guidelines to create a new account\n",
      "\u001b[94mUser: \u001b[0munderstand, what i am saying\n",
      "\u001b[32mChatBot: \u001b[0m Well I would not be a very clever AI if I did not would I?\n",
      "\u001b[94mUser: \u001b[0mquiet\n",
      "\u001b[32mChatBot: \u001b[0m I am sorry to disturb you\n",
      "\u001b[94mUser: \u001b[0mshit\n",
      "\u001b[32mChatBot: \u001b[0m How rude\n",
      "\u001b[94mUser: \u001b[0mgossip, please\n",
      "\u001b[32mChatBot: \u001b[0m Ross said he gave her a gift and she denied it because she has a boyfriend.\n",
      "\u001b[94mUser: \u001b[0ma joke, please\n",
      "\u001b[32mChatBot: \u001b[0m Fine, sorry to disturb you\n",
      "\u001b[94mUser: \u001b[0mtell a joke\n",
      "\u001b[32mChatBot: \u001b[0m A businessman turned to a colleague and asked, 'So, how many people work at your office?' His friend shrugged and replied, 'Oh about half of them.'\n",
      "\u001b[94mUser: \u001b[0mquit\n"
     ]
    }
   ],
   "source": [
    "def fun():\n",
    "    leng=20\n",
    "    \n",
    "    while True:\n",
    "        print(Fore.LIGHTBLUE_EX + \"User: \" + Style.RESET_ALL, end=\"\")\n",
    "        inp=input()\n",
    "        if inp.lower()=='quit':\n",
    "            break;\n",
    "            \n",
    "        value=model.predict(pad_sequences(tokenizer.texts_to_sequences([inp]),maxlen=leng,truncating='post'))\n",
    "        tag=lbl.inverse_transform([np.argmax(value)])\n",
    "        \n",
    "        for i in data['intents']:\n",
    "            if i['tag']==tag:\n",
    "                print(Fore.GREEN + \"ChatBot: \" + Style.RESET_ALL, np.random.choice(i['responses']))\n",
    "            \n",
    "print(Fore.YELLOW + \"Start messaging with chatbot and press quit to exit\" + Style.RESET_ALL)\n",
    "fun()"
   ]
  },
  {
   "cell_type": "code",
   "execution_count": 10,
   "metadata": {},
   "outputs": [
    {
     "name": "stdout",
     "output_type": "stream",
     "text": [
      "Collecting coloroma\n"
     ]
    },
    {
     "name": "stderr",
     "output_type": "stream",
     "text": [
      "  Could not find a version that satisfies the requirement coloroma (from versions: )\n",
      "No matching distribution found for coloroma\n"
     ]
    }
   ],
   "source": [
    "!pip install colorama"
   ]
  },
  {
   "cell_type": "code",
   "execution_count": null,
   "metadata": {},
   "outputs": [],
   "source": []
  }
 ],
 "metadata": {
  "kernelspec": {
   "display_name": "Python 3 (ipykernel)",
   "language": "python",
   "name": "python3"
  },
  "language_info": {
   "codemirror_mode": {
    "name": "ipython",
    "version": 3
   },
   "file_extension": ".py",
   "mimetype": "text/x-python",
   "name": "python",
   "nbconvert_exporter": "python",
   "pygments_lexer": "ipython3",
   "version": "3.7.1"
  }
 },
 "nbformat": 4,
 "nbformat_minor": 2
}
